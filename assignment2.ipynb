{
 "cells": [
  {
   "cell_type": "markdown",
   "id": "23e134a4-b652-4262-ac8a-976f45f3bf42",
   "metadata": {},
   "source": [
    "# ASSIGNMENT"
   ]
  },
  {
   "cell_type": "markdown",
   "id": "eebe057c-e844-46ff-bbee-25c9cb1282a2",
   "metadata": {},
   "source": [
    "### Q1. What are the characteristics of the tuples? Is tuple immutable?"
   ]
  },
  {
   "cell_type": "markdown",
   "id": "d536699d-d19b-4a68-967c-50e0fc73f6d6",
   "metadata": {},
   "source": [
    "#### Tuples are immutable. Hence they are primarily used to store data that doesn't change frequently. Any operation can store data in a tuple when you don't want it to change. Tuples are great to use if you want the data in your collection to be read-only, never to change, and always remain the same and constant."
   ]
  },
  {
   "cell_type": "markdown",
   "id": "3bfc62ed-b798-462b-9ad4-18424f3b2765",
   "metadata": {},
   "source": [
    "#### tuple is immutable which cannot be changed, tuple is curly brackets, tuple takes less memory compare to list,tuple fixed in nature, it hard to occur the error, tuple immutable means which not add the elements into the tuple once it created."
   ]
  },
  {
   "cell_type": "markdown",
   "id": "4caf5c22-41cf-4a43-a3cf-80600b5abcfb",
   "metadata": {},
   "source": [
    "### Q2. What are the two tuple methods in python? Give an example of each method. Give a reason why tuples have only two in-built methods as compared to Lists."
   ]
  },
  {
   "cell_type": "markdown",
   "id": "28329584-5a68-4952-a124-c514930f47f8",
   "metadata": {},
   "source": [
    "#### index,count"
   ]
  },
  {
   "cell_type": "code",
   "execution_count": 2,
   "id": "bb814147-990c-4ab7-a9b7-2692ac7743b8",
   "metadata": {},
   "outputs": [
    {
     "data": {
      "text/plain": [
       "4"
      ]
     },
     "execution_count": 2,
     "metadata": {},
     "output_type": "execute_result"
    }
   ],
   "source": [
    "tuple=(1,2,3,4,5,6,7)\n",
    "tuple.count(1)\n",
    "tuple.index(5)"
   ]
  },
  {
   "cell_type": "markdown",
   "id": "a267aec3-2549-4f07-8b1e-e451e129012d",
   "metadata": {},
   "source": [
    "#### because the tuple is immutable compared to list\n"
   ]
  },
  {
   "cell_type": "markdown",
   "id": "6767cd7c-fead-4e58-a2a1-eb7be7c14d1d",
   "metadata": {},
   "source": [
    "### Which collection datatypes in python do not allow duplicate items? Write a code using a set to removeduplicates from the given list.List = [1, 1, 1, 2, 1, 3, 1, 4, 2, 1, 2, 2, 2, 3, 2, 4, 3, 1, 3, 2, 3, 3, 3, 4, 4, 1, 4, 2, 4, 3, 4, 4]"
   ]
  },
  {
   "cell_type": "markdown",
   "id": "e2f1c3aa-45ef-4637-a6aa-be81cfacc871",
   "metadata": {},
   "source": [
    "### set collection datatypes in python do not allow duplicate items\n"
   ]
  },
  {
   "cell_type": "code",
   "execution_count": 4,
   "id": "57e79901-32c0-40c1-ab41-0157eccbb881",
   "metadata": {},
   "outputs": [
    {
     "name": "stdout",
     "output_type": "stream",
     "text": [
      "[1, 2, 3, 4]\n"
     ]
    }
   ],
   "source": [
    "list=[1,1,1,2,1,3,1,4,2,1,2,2,2,3,2,3,4,3,2,2,3,3,4,4,1,4,3,4,4]\n",
    "result=[]\n",
    "for i in list:\n",
    "    if i not in result:\n",
    "        result.append(i)\n",
    "print(result)"
   ]
  },
  {
   "cell_type": "markdown",
   "id": "33fe5821-123a-4802-b72a-aa9f1a0c48ac",
   "metadata": {},
   "source": [
    "### Q4. Explain the difference between the union() and update() methods for a set. Give an example ofeach method."
   ]
  },
  {
   "cell_type": "markdown",
   "id": "e117574b-c13d-4866-84e9-aa8f7dadc8e8",
   "metadata": {},
   "source": [
    "#### the union() and update() methods prints all items that are present in two sets. The union() method returns a new set where as update() method add item into the existing set from another set."
   ]
  },
  {
   "cell_type": "code",
   "execution_count": 5,
   "id": "9d68e7cf-1127-4bc0-9672-ee390f489db8",
   "metadata": {},
   "outputs": [
    {
     "name": "stdout",
     "output_type": "stream",
     "text": [
      "{1, 2, 3, 4, 5, 6, 7, 'hi', 'hello'}\n",
      "None\n"
     ]
    }
   ],
   "source": [
    "set1={1,2,3,4,5,6,7}\n",
    "set2={\"hi\",\"hello\"}\n",
    "set3=set1.union(set2)\n",
    "set4=set1.update(set2)\n",
    "print(set3)\n",
    "print(set4)"
   ]
  },
  {
   "cell_type": "markdown",
   "id": "c74f8879-b4c2-415f-9bf9-f106a7713b7e",
   "metadata": {},
   "source": [
    "### Q5. What is a dictionary? Give an example. Also, state whether a dictionary is ordered or unordered.\n"
   ]
  },
  {
   "cell_type": "markdown",
   "id": "f6dafd07-0ee4-4584-a77c-d5d3e047c8cd",
   "metadata": {},
   "source": [
    "#### dictionaries are used to store data value and key:value pairs.  A dictionary is collection which ordered, changeable and do not allow diplicate. ex: d={'a':10,'b':20,'c':30}\n"
   ]
  },
  {
   "cell_type": "markdown",
   "id": "0b66faf6-d4ef-4e73-9e7f-3eaeab262f31",
   "metadata": {},
   "source": [
    "#### dictionary is unordered the items in dictionary are stored without any index value.\n"
   ]
  },
  {
   "cell_type": "markdown",
   "id": "1f68a85d-32b0-4bf4-9890-1a0d1e00133f",
   "metadata": {},
   "source": [
    "### Q6. Can we create a nested dictionary? If so, please give an example by creating a simple one-level nested dictionary."
   ]
  },
  {
   "cell_type": "markdown",
   "id": "f5740ec3-0da9-46e9-813f-5009b39c28f8",
   "metadata": {},
   "source": [
    "#### to create a nested dictionary, simply pass dictionary key:value pairs as key agruments to dict() consturctor.  "
   ]
  },
  {
   "cell_type": "markdown",
   "id": "8ae201b9-00ce-447b-99dc-dc2431e74dff",
   "metadata": {},
   "source": [
    "#### nested_dic={'dict1':{'key-a':'value-a'},'dict2':{'key_b':'value-b'}}"
   ]
  },
  {
   "cell_type": "markdown",
   "id": "b79420df-d93f-4331-9fcc-7cd7e07dd6e6",
   "metadata": {},
   "source": [
    "### Q7. Using setdefault() method, create key named topics in the given dictionary and also add the value of the key as this list ['Python', 'Machine Learning’, 'Deep Learning'] dict1 = {'language' : 'Python', 'course': 'Data Science Masters'}"
   ]
  },
  {
   "cell_type": "code",
   "execution_count": 11,
   "id": "200751e3-94f4-4b9c-8f8c-e061ee4269e7",
   "metadata": {},
   "outputs": [
    {
     "name": "stdout",
     "output_type": "stream",
     "text": [
      "{'language': 'Python', 'course': 'Data Science Masters', 'topics': ['python', 'course', 'deep learning']}\n"
     ]
    }
   ],
   "source": [
    "dict1={'language' : 'Python', 'course': 'Data Science Masters'}\n",
    "dict1.setdefault(\"topics\")\n",
    "dict1.update({\"topics\":[\"python\",\"course\",\"deep learning\"]})\n",
    "print(dict1)"
   ]
  },
  {
   "cell_type": "markdown",
   "id": "9b3d294b-71ff-4fe7-b35b-d691fd701876",
   "metadata": {},
   "source": [
    "### Q8. What are the three view objects in dictionaries? Use the three in-built methods in python to display these three view objects for the given dictionary. dict1 = {'Sport': 'Cricket' , 'Teams': ['India', 'Australia', 'England', 'South Africa', 'Sri Lanka', 'New Zealand']}"
   ]
  },
  {
   "cell_type": "markdown",
   "id": "f5248659-17f5-4696-8e44-3f6f627c9337",
   "metadata": {},
   "source": [
    "### The main view objects of dictionary in python are keys, values and items.\n"
   ]
  },
  {
   "cell_type": "code",
   "execution_count": 12,
   "id": "5a086bad-ed4f-4da8-96d9-c45fd4accfcc",
   "metadata": {},
   "outputs": [
    {
     "name": "stdout",
     "output_type": "stream",
     "text": [
      "dict_keys(['Sport', 'Teams'])\n",
      "dict_values(['Cricket', ['India', 'Australia', 'England', 'South Africa', 'Sri Lanka', 'New Zealand']])\n",
      "dict_items([('Sport', 'Cricket'), ('Teams', ['India', 'Australia', 'England', 'South Africa', 'Sri Lanka', 'New Zealand'])])\n"
     ]
    }
   ],
   "source": [
    "#to display the three view objects for the given dictionary\n",
    "dict1 = {'Sport': 'Cricket' , 'Teams': ['India', 'Australia', 'England', 'South Africa', 'Sri Lanka', 'New Zealand']}\n",
    "keys=dict1.keys()\n",
    "values=dict1.values()\n",
    "items=dict1.items()\n",
    "print(keys)\n",
    "print(values)\n",
    "print(items)"
   ]
  },
  {
   "cell_type": "code",
   "execution_count": null,
   "id": "de5ca1ef-f93b-426b-9c8d-bb2e59771cfc",
   "metadata": {},
   "outputs": [],
   "source": []
  }
 ],
 "metadata": {
  "kernelspec": {
   "display_name": "Python 3 (ipykernel)",
   "language": "python",
   "name": "python3"
  },
  "language_info": {
   "codemirror_mode": {
    "name": "ipython",
    "version": 3
   },
   "file_extension": ".py",
   "mimetype": "text/x-python",
   "name": "python",
   "nbconvert_exporter": "python",
   "pygments_lexer": "ipython3",
   "version": "3.10.8"
  }
 },
 "nbformat": 4,
 "nbformat_minor": 5
}
